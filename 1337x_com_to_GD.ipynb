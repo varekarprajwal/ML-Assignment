{
  "cells": [
    {
      "cell_type": "markdown",
      "metadata": {
        "id": "view-in-github",
        "colab_type": "text"
      },
      "source": [
        "<a href=\"https://colab.research.google.com/github/varekarprajwal/ML-Assignment/blob/main/1337x_com_to_GD.ipynb\" target=\"_parent\"><img src=\"https://colab.research.google.com/assets/colab-badge.svg\" alt=\"Open In Colab\"/></a>"
      ]
    },
    {
      "cell_type": "markdown",
      "metadata": {
        "id": "3Z8cK8h2Avbv"
      },
      "source": [
        "<code>function ClickConnect(){\n",
        "console.log(\"Working\");\n",
        "document.querySelector(\"colab-connect-button\").click()\n",
        "}setInterval(ClickConnect,6000)</code>"
      ]
    },
    {
      "cell_type": "code",
      "execution_count": null,
      "metadata": {
        "id": "wH-Hbs4novWj",
        "cellView": "form"
      },
      "outputs": [],
      "source": [
        "#@title Module install and Variable create\n",
        "!python -m pip install --upgrade pip setuptools wheel\n",
        "!python -m pip install lbry-libtorrent\n",
        "!apt install python3-libtorrent\n",
        "import IPython\n",
        "from IPython.display import HTML\n",
        "from google.colab.output import _publish as publish\n",
        "import re\n",
        "from bs4 import BeautifulSoup\n",
        "import requests\n",
        "import pandas as pd\n",
        "from google.colab import data_table\n",
        "import libtorrent as lt\n",
        "import urllib.request\n",
        "from PIL import Image\n",
        "import time\n",
        "from IPython.display import display\n",
        "import ipywidgets as widgets\n",
        "data_table.enable_dataframe_formatter()\n",
        "ses = lt.session()\n",
        "ses.listen_on(6881, 6891)\n",
        "downloads = []\n",
        "movies_name=[]\n",
        "movies_size_seed=[]\n",
        "movies_upload_date=[]\n",
        "link=[]\n",
        "x=[]"
      ]
    },
    {
      "cell_type": "code",
      "execution_count": 2,
      "metadata": {
        "cellView": "form",
        "colab": {
          "base_uri": "https://localhost:8080/"
        },
        "id": "pwfYepGhr-NC",
        "outputId": "49a70325-da83-45e1-bdb9-9fac28e497fc"
      },
      "outputs": [
        {
          "output_type": "stream",
          "name": "stdout",
          "text": [
            "Mounted at /content/drive\n"
          ]
        }
      ],
      "source": [
        "#@title Google Autorization\n",
        "from google.colab import drive\n",
        "drive.mount('/content/drive')"
      ]
    },
    {
      "cell_type": "code",
      "execution_count": null,
      "metadata": {
        "cellView": "form",
        "id": "kSmyFpYi8Xr4"
      },
      "outputs": [],
      "source": [
        "#@title Trending movie list\n",
        "trending_torrent = \"anime\" #@param [\"movies\",\"tv\",\"games\",\"apps\",\"music\",\"documentaries\",\"anime\",\"other\",\"xxx\"]\n",
        "trending_type = \"Today\" #@param [\"Today\", \"Week\"]\n",
        "del movies_name[::]\n",
        "del movies_size_seed[::]\n",
        "del movies_upload_date[::]\n",
        "del link[::]\n",
        "del x[::]\n",
        "if trending_type == \"Today\":\n",
        "  types=\"d\"\n",
        "else :types=\"w\"\n",
        "url=\"https://1337x.to/trending/\"+types+\"/\"+trending_torrent+\"/\"\n",
        "r2=requests.get(url)\n",
        "soup=BeautifulSoup(r2.content,'html.parser')\n",
        "table1=soup.find('div',attrs={\"class\":'table-list-wrap'}).find('tbody').find_all('tr')\n",
        "table_name=soup.find('div',attrs={\"class\":'table-list-wrap'})\n",
        "x=table_name.find_all('td',attrs={\"class\":'coll-1 name'})\n",
        "\n",
        "for i in range(len(table1)):\n",
        "  # print(x[i].find('a').get_text())\n",
        "  movies_name.append(x[i].find('a').get_text())\n",
        "  movies_size_seed.append(table1[i].find_all('td')[4].get_text().replace(\"B\",\"B \"))\n",
        "  movies_upload_date.append(table1[i].find_all('td')[3].get_text())\n",
        "  temp= soup.find_all('td',attrs={\"class\":'coll-1 name'})\n",
        "  link.append(temp[i].find('a', href=True)['href'])\n",
        "data_trending = {'Movie Name': movies_name,\n",
        "        'Size And Seed': movies_size_seed,\n",
        "        'Upload':movies_upload_date}\n",
        "df = pd.DataFrame(data_trending)\n",
        "data_table.DataTable(df, num_rows_per_page=len(x))"
      ]
    },
    {
      "cell_type": "code",
      "source": [
        "#@title Search TOP the movie\n",
        "Torrent_type = \"top-100-games\" #@param [\"top-100\",\"popular-movies\",\"popular-movies-week\",\"popular-foreign-movies\",\"popular-foreign-movies-week\",\"top-100-movies\",\"top-100-eng-movies\",\"top-100-non-eng-movies\",\"popular-tv\",\"popular-tv-week\",\"top-100-television\",\"popular-games\",\"popular-games-week\",\"top-100-games\",\"popular-apps\",\"popular-apps-week\",\"top-100-applications\",\"popular-music\",\"popular-music-week\",\"top-100-music\",\"top-100-documentaries\", \"top-100-anime\",\"popular-other\",\"popular-other-week\",\"top-100-other\",\"popular-xxx\",\"popular-xxx-week\",\"top-100-xxx\"]\n",
        "Sort_order = \"desc\" #@param [\"desc\", \"asc\"]\n",
        "\n",
        "del movies_name[::]\n",
        "del movies_size_seed[::]\n",
        "del movies_upload_date[::]\n",
        "del link[::]\n",
        "try:\n",
        "  # https://1337x.to/sub/5/0/\n",
        "  url=\"https://1337x.to/\"+Torrent_type\n",
        "\n",
        "  r1=requests.get(url)\n",
        "  soup=BeautifulSoup(r1.content,'html.parser')\n",
        "  tab1=soup.find('div',class_='table-list-wrap').find('tbody').find_all('tr')\n",
        "  for i in range(len(tab1)):\n",
        "    movies_name.append(tab1[i].find_all('td')[0].get_text())\n",
        "    movies_size_seed.append(tab1[i].find_all('td')[4].get_text().replace(\"B\",\"B \"))\n",
        "    movies_upload_date.append(tab1[i].find_all('td')[3].get_text())\n",
        "    temp= soup.find_all('td',class_='coll-1 name')\n",
        "    link.append(temp[i].find_all('a', href=True)[1]['href'])\n",
        "  print(\"RESULT FOUND \"+Torrent_type.upper())\n",
        "\n",
        "except : print(\"NO RESULT FOUND\")"
      ],
      "metadata": {
        "colab": {
          "base_uri": "https://localhost:8080/"
        },
        "cellView": "form",
        "id": "fa_sXttgQ9I2",
        "outputId": "0dcc7d07-50ef-46c6-9b44-f3232a096189"
      },
      "execution_count": null,
      "outputs": [
        {
          "output_type": "stream",
          "name": "stdout",
          "text": [
            "RESULT FOUND TOP-100-XXX\n"
          ]
        }
      ]
    },
    {
      "cell_type": "code",
      "execution_count": 9,
      "metadata": {
        "cellView": "form",
        "id": "ct-R-VLcmjgT",
        "colab": {
          "base_uri": "https://localhost:8080/"
        },
        "outputId": "88d081da-ceed-444b-c1d6-5fae7257647b"
      },
      "outputs": [
        {
          "output_type": "stream",
          "name": "stdout",
          "text": [
            "RESULT FOUND XXX\n"
          ]
        }
      ],
      "source": [
        "#@title Run this cell if you want to search the movie\n",
        "Torrent_name = \"\" #@param {type:\"string\"}\n",
        "Torrent_type = \"Other\" #@param [\"Movies\",\"TV\",\"Games\",\"Music\",\"Apps\",\"Documentaries\",\"Anime\", \"XXX\",\"Other\"]\n",
        "Torrent_Sort_type = \"time\" #@param [\"time\", \"size\",\"seeders\", \"leechers\"]\n",
        "Sort_order = \"desc\" #@param [\"desc\", \"asc\"]\n",
        "page = 1 #@param {type:\"integer\"}\n",
        "del movies_name[::]\n",
        "del movies_size_seed[::]\n",
        "del movies_upload_date[::]\n",
        "del link[::]\n",
        "try:\n",
        "  # https://1337x.to/sub/5/0/\n",
        "  value=Torrent_name.replace(\" \",\"+\")\n",
        "  url=\"https://1337x.to/sort-category-search/\"+value+\"/\"+Torrent_type+\"/\"+Torrent_Sort_type+\"/\"+Sort_order+\"/\"+str(page)+\"/\"\n",
        "\n",
        "  r1=requests.get(url)\n",
        "  soup=BeautifulSoup(r1.content,'html.parser')\n",
        "  tab1=soup.find('div',class_='table-list-wrap').find('tbody').find_all('tr')\n",
        "  for i in range(len(tab1)):\n",
        "    movies_name.append(tab1[i].find_all('td')[0].get_text())\n",
        "    movies_size_seed.append(tab1[i].find_all('td')[4].get_text().replace(\"B\",\"B \"))\n",
        "    movies_upload_date.append(tab1[i].find_all('td')[3].get_text())\n",
        "    temp= soup.find_all('td',class_='coll-1 name')\n",
        "    link.append(temp[i].find_all('a', href=True)[1]['href'])\n",
        "  print(\"RESULT FOUND \"+Torrent_type.upper())\n",
        "\n",
        "except : print(\"NO RESULT FOUND\")"
      ]
    },
    {
      "cell_type": "code",
      "execution_count": null,
      "metadata": {
        "cellView": "form",
        "colab": {
          "base_uri": "https://localhost:8080/"
        },
        "id": "7Ce1TBwz-t_3",
        "outputId": "3eaeee3f-c1e6-4c68-d86b-905b2d8ee5da"
      },
      "outputs": [
        {
          "output_type": "stream",
          "name": "stdout",
          "text": [
            "RESULT FOUND FOR VIDEO TORRENTS DOWNLOAD LIST \n"
          ]
        }
      ],
      "source": [
        "#@title Run this cell if you want to search the torrent by cat\n",
        "select = \"_Dubs/Dual_Audio_Torrents_download_list_\" #@param [\"_XXX_Games_Torrents_download_list_\",\"_XXX_Hentai_Torrents_download_list_\",\"_XXX_Magazine_Torrents_download_list_\",\"_XXX_Video_Torrents_download_list_\",\"_XXX_Picture_Torrents_download_list_\" ,\"_DVD_Torrents_download_list_\",\t\"_Divx/Xvid_Torrents_download_list_\",\t\"_SVCD/VCD_Torrents_download_list_\",\t\"_Dubs/Dual_Audio_Torrents_download_list_\",\t\"_DVD_Torrents_download_list_\",\t\"_Divx/Xvid_Torrents_download_list_\",\t\"_SVCD/VCD_Torrents_download_list_\",\t\"_Documentary_Torrents_download_list_\",\t\"_PC_Game_Torrents_download_list_\",\t\"_PS2_Torrents_download_list_\",\t\"_PSP_Torrents_download_list_\",\t\"_Xbox_Torrents_download_list_\",\t\"_Xbox360_Torrents_download_list_\",\t\"_PS1_Torrents_download_list_\",\t\"_Dreamcast_Torrents_download_list_\",\t\"_Other_Torrents_download_list_\",\t\"_PC_Software_Torrents_download_list_\",\t\"_Mac_Torrents_download_list_\",\t\"_Linux_Torrents_download_list_\",\t\"_Other_Torrents_download_list_\",\t\"_MP3_Torrents_download_list_\",\t\"_Lossless_Torrents_download_list_\",\t\"_DVD_Torrents_download_list_\",\t\"_Video_Torrents_download_list_\",\t\"_Radio_Torrents_download_list_\",\t\"_Other_Torrents_download_list_\",\t\"_Anime_Torrents_download_list_\",\t\"_Emulation_Torrents_download_list_\",\t\"_Tutorials_Torrents_download_list_\",\t\"_Sounds_Torrents_download_list_\",\t\"_E-Books_Torrents_download_list_\",\t\"_Images_Torrents_download_list_\",\t\"_Mobile_Phone_Torrents_download_list_\",\t\"_Comics_Torrents_download_list_\",\t\"_Other_Torrents_download_list_\",\t\"_HD_Torrents_download_list_\",\t\"_HD_Torrents_download_list_\",\t\"_PS3_Torrents_download_list_\",\t\"_Wii_Torrents_download_list_\",\t\"_DS_Torrents_download_list_\",\t\"_GameCube_Torrents_download_list_\",\t\"_Nulled_Script_Torrents_download_list_\",\t\"_Audiobook_Torrents_download_list_\",\t\"_Album_Torrents_download_list_\",\t\"_h.264/x264_Torrents_download_list_\",\t\"_Mp4_Torrents_download_list_\",\t\"_Android_Torrents_download_list_\",\t\"_iOS_Torrents_download_list_\",\t\"_Box_Set_Torrents_download_list_\",\t\"_Discography_Torrents_download_list_\",\t\"_Single_Torrents_download_list_\",\t\"_3D_Torrents_download_list_\",\t\"_Concerts_Torrents_download_list_\",\t\"_AAC_Torrents_download_list_\",\t\"_HEVC/x265_Torrents_download_list_\",\t\"_HEVC/x265_Torrents_download_list_\",\t\"_3DS_Torrents_download_list_\",\t\"_Bollywood_Torrents_download_list_\",\t\"_Cartoon_Torrents_download_list_\",\t\"_SD_Torrents_download_list_\",\t\"_UHD_Torrents_download_list_\",\t\"_PS4_Torrents_download_list_\",\t\"_Dual_Audio_Torrents_download_list_\",\t\"_Dubbed_Torrents_download_list_\",\t\"_Subbed_Torrents_download_list_\",\t\"_Raw_Torrents_download_list_\",\t\"_Switch_Torrents_download_list_\"]\n",
        "page = 5 #@param {type:\"integer\"}\n",
        "del movies_name[::]\n",
        "del movies_size_seed[::]\n",
        "del movies_upload_date[::]\n",
        "del link[::]\n",
        "\n",
        "Torrent_dict = {\n",
        "\"_DVD_Torrents_download_list_\": \"1\",\n",
        "\"_Divx/Xvid_Torrents_download_list_\": \"2\",\n",
        "\"_SVCD/VCD_Torrents_download_list_\": \"3\",\n",
        "\"_Dubs/Dual_Audio_Torrents_download_list_\": \"4\",\n",
        "\"_DVD_Torrents_download_list_\": \"5\",\n",
        "\"_Divx/Xvid_Torrents_download_list_\": \"6\",\n",
        "\"_SVCD/VCD_Torrents_download_list_\": \"7\",\n",
        "\"_Documentary_Torrents_download_list_\": \"9\",\n",
        "\"_PC_Game_Torrents_download_list_\": \"10\",\n",
        "\"_PS2_Torrents_download_list_\": \"11\",\n",
        "\"_PSP_Torrents_download_list_\": \"12\",\n",
        "\"_Xbox_Torrents_download_list_\": \"13\",\n",
        "\"_Xbox360_Torrents_download_list_\": \"14\",\n",
        "\"_PS1_Torrents_download_list_\": \"15\",\n",
        "\"_Dreamcast_Torrents_download_list_\": \"16\",\n",
        "\"_Other_Torrents_download_list_\": \"17\",\n",
        "\"_PC_Software_Torrents_download_list_\": \"18\",\n",
        "\"_Mac_Torrents_download_list_\": \"19\",\n",
        "\"_Linux_Torrents_download_list_\": \"20\",\n",
        "\"_Other_Torrents_download_list_\": \"21\",\n",
        "\"_MP3_Torrents_download_list_\": \"22\",\n",
        "\"_Lossless_Torrents_download_list_\": \"23\",\n",
        "\"_DVD_Torrents_download_list_\": \"24\",\n",
        "\"_Video_Torrents_download_list_\": \"25\",\n",
        "\"_Radio_Torrents_download_list_\": \"26\",\n",
        "\"_Other_Torrents_download_list_\": \"27\",\n",
        "\"_Anime_Torrents_download_list_\": \"28\",\n",
        "\"_Emulation_Torrents_download_list_\": \"33\",\n",
        "\"_Tutorials_Torrents_download_list_\": \"34\",\n",
        "\"_Sounds_Torrents_download_list_\": \"35\",\n",
        "\"_E-Books_Torrents_download_list_\": \"36\",\n",
        "\"_Images_Torrents_download_list_\": \"37\",\n",
        "\"_Mobile_Phone_Torrents_download_list_\": \"38\",\n",
        "\"_Comics_Torrents_download_list_\": \"39\",\n",
        "\"_Other_Torrents_download_list_\": \"40\",\n",
        "\"_HD_Torrents_download_list_\": \"41\",\n",
        "\"_HD_Torrents_download_list_\": \"42\",\n",
        "\"_PS3_Torrents_download_list_\": \"43\",\n",
        "\"_Wii_Torrents_download_list_\": \"44\",\n",
        "\"_DS_Torrents_download_list_\": \"45\",\n",
        "\"_GameCube_Torrents_download_list_\": \"46\",\n",
        "\"_Nulled_Script_Torrents_download_list_\": \"47\",\n",
        "\"_XXX_Video_Torrents_download_list_\": \"48\",\n",
        "\"_XXX_Picture_Torrents_download_list_\" : \"49\",\n",
        "\"_XXX_Magazine_Torrents_download_list_\" :\"50\",\n",
        "\"_XXX_Hentai_Torrents_download_list_\" : \"51\",\n",
        "\"_Audiobook_Torrents_download_list_\": \"52\",\n",
        "\"_Album_Torrents_download_list_\": \"53\",\n",
        "\"_h.264/x264_Torrents_download_list_\": \"54\",\n",
        "\"_Mp4_Torrents_download_list_\": \"55\",\n",
        "\"_Android_Torrents_download_list_\": \"56\",\n",
        "\"_iOS_Torrents_download_list_\": \"57\",\n",
        "\"_Box_Set_Torrents_download_list_\": \"58\",\n",
        "\"_Discography_Torrents_download_list_\": \"59\",\n",
        "\"_Single_Torrents_download_list_\": \"60\",\n",
        "\"_3D_Torrents_download_list_\": \"66\",\n",
        "\"_Concerts_Torrents_download_list_\": \"68\",\n",
        "\"_XXX_Games_Torrents_download_list_\" : \"67\",\n",
        "\"_AAC_Torrents_download_list_\": \"69\",\n",
        "\"_HEVC/x265_Torrents_download_list_\": \"70\",\n",
        "\"_HEVC/x265_Torrents_download_list_\": \"71\",\n",
        "\"_3DS_Torrents_download_list_\": \"72\",\n",
        "\"_Bollywood_Torrents_download_list_\": \"73\",\n",
        "\"_Cartoon_Torrents_download_list_\": \"74\",\n",
        "\"_SD_Torrents_download_list_\": \"75\",\n",
        "\"_UHD_Torrents_download_list_\": \"76\",\n",
        "\"_PS4_Torrents_download_list_\": \"77\",\n",
        "\"_Dual_Audio_Torrents_download_list_\": \"78\",\n",
        "\"_Dubbed_Torrents_download_list_\": \"79\",\n",
        "\"_Subbed_Torrents_download_list_\": \"80\",\n",
        "\"_Raw_Torrents_download_list_\": \"81\",\n",
        "\"_Switch_Torrents_download_list_\": \"82\"\n",
        "}\n",
        "\n",
        "try:\n",
        "  url=\"https://1337x.to/sub/\"+Torrent_dict[select]+\"/\"+str(page)+\"/\"\n",
        "\n",
        "  r1=requests.get(url)\n",
        "  soup=BeautifulSoup(r1.content,'html.parser')\n",
        "  tab1=soup.find('div',class_='table-list-wrap').find('tbody').find_all('tr')\n",
        "  heading=soup.find('div',attrs={\"class\":'box-info-heading clearfix'}).find('h1').get_text()\n",
        "  for i in range(len(tab1)):\n",
        "    movies_name.append(tab1[i].find_all('td')[0].get_text())\n",
        "    movies_size_seed.append(tab1[i].find_all('td')[4].get_text().replace(\"B\",\"B \"))\n",
        "    movies_upload_date.append(tab1[i].find_all('td')[3].get_text())\n",
        "    temp= soup.find_all('td',class_='coll-1 name')\n",
        "    link.append(temp[i].find_all('a', href=True)[1]['href'])\n",
        "  print(\"RESULT FOUND FOR\"+heading.upper())\n",
        "\n",
        "except : print(\"NO RESULT FOUND\")"
      ]
    },
    {
      "cell_type": "code",
      "execution_count": null,
      "metadata": {
        "id": "GLuyoJQUa9jo",
        "cellView": "form"
      },
      "outputs": [],
      "source": [
        "#@title Torrent list\n",
        "data = {'Movie Name': movies_name,\n",
        "      'Size And Seed': movies_size_seed,\n",
        "      'Upload':movies_upload_date}\n",
        "df = pd.DataFrame(data)\n",
        "data_table.DataTable(df, num_rows_per_page=len(tab1))"
      ]
    },
    {
      "cell_type": "code",
      "source": [
        "#@title WEB index selector\n",
        "movie_index = 8 # @param {type:\"integer\"}\n",
        "url=\"https://1337x.to\"+link[movie_index]\n",
        "r2=requests.get(url)\n",
        "soup=BeautifulSoup(r2.content,'html.parser')\n",
        "page_soup=soup.find('div',attrs={\"id\":'description'})\n",
        "Func = open(\"index.html\",\"w\")\n",
        "Func.write(f'''<html>\\n<head>\\n<title> \\nOutput Data in an HTML file \\\n",
        "           </title>\\n</head> <body>\n",
        "           {page_soup}\n",
        "           </body></html>''')\n",
        "Func.close()"
      ],
      "metadata": {
        "id": "iMwLkonp7s9f",
        "cellView": "form"
      },
      "execution_count": 15,
      "outputs": []
    },
    {
      "cell_type": "code",
      "source": [
        "# @title CREATE WEB PAGE\n",
        "IPython.display.HTML(filename='/content/index.html')"
      ],
      "metadata": {
        "id": "drmIKQ2h9yhK",
        "cellView": "form"
      },
      "execution_count": null,
      "outputs": []
    },
    {
      "cell_type": "code",
      "execution_count": 11,
      "metadata": {
        "id": "jyYbhKewulCo",
        "cellView": "form"
      },
      "outputs": [],
      "source": [
        "#@title Movie index selector\n",
        "movie_index = \"19\" #@param {type:\"string\"}\n",
        "select= list(map(int, movie_index.split()))\n",
        "location = \"private\" #@param [\"shared\", \"private\"]\n",
        "if location ==\"shared\" :\n",
        "  sub_path = \"Other\" #@param [\"K Drama\", \"Movie\", \"Hindi web series\", \"MARVEL\", \"Games\", \"Other\"]\n",
        "  path =\"/content/drive/My Drive/PRAJWAL save/\"+sub_path\n",
        "else :\n",
        "  path=\"/content/drive/MyDrive/PRAJWAL\"\n",
        "params = {\"save_path\": path}\n",
        "for i in select:\n",
        "  mag_link=[]\n",
        "  url=\"https://1337x.to\"+link[i]\n",
        "  r2=requests.get(url)\n",
        "  soup=BeautifulSoup(r2.content,'html.parser')\n",
        "  mag_link=(soup.find_all('a',href=True)[31]['href'])\n",
        "  downloads.append(lt.add_magnet_uri(ses, mag_link, params) )"
      ]
    },
    {
      "cell_type": "code",
      "execution_count": null,
      "metadata": {
        "cellView": "form",
        "id": "0Kk9dY-Zuay0"
      },
      "outputs": [],
      "source": [
        "#@title Movie Downloader\n",
        "\n",
        "state_str = [\n",
        "    \"queued\",\n",
        "    \"checking\",\n",
        "    \"downloading metadata\",\n",
        "    \"downloading\",\n",
        "    \"finished\",\n",
        "    \"seeding\",\n",
        "    \"allocating\",\n",
        "    \"checking fastresume\",\n",
        "]\n",
        "\n",
        "layout = widgets.Layout(width=\"auto\")\n",
        "style = {\"description_width\": \"initial\"}\n",
        "download_bars = [\n",
        "    widgets.FloatSlider(\n",
        "        step=0.01, disabled=True, layout=layout, style=style\n",
        "    )\n",
        "    for _ in downloads\n",
        "]\n",
        "display(*download_bars)\n",
        "\n",
        "while downloads:\n",
        "    next_shift = 0\n",
        "    for index, download in enumerate(downloads[:]):\n",
        "        bar = download_bars[index + next_shift]\n",
        "        if not download.is_seed():\n",
        "            s = download.status()\n",
        "\n",
        "            bar.description = \" \".join(\n",
        "                [\n",
        "                    download.name(),\n",
        "                    str(s.download_rate / 8000),\n",
        "                    \"kB/s\",\n",
        "                    state_str[s.state],\n",
        "                ]\n",
        "            )\n",
        "            bar.value = s.progress * 100\n",
        "        else:\n",
        "            next_shift -= 1\n",
        "            ses.remove_torrent(download)\n",
        "            downloads.remove(download)\n",
        "            bar.close() # Seems to be not working in Colab (see https://github.com/googlecolab/colabtools/issues/726#issue-486731758)\n",
        "            download_bars.remove(bar)\n",
        "            print(download.name(), \"complete\")\n",
        "    time.sleep(1)"
      ]
    }
  ],
  "metadata": {
    "colab": {
      "provenance": [],
      "include_colab_link": true
    },
    "kernelspec": {
      "display_name": "Python 3",
      "name": "python3"
    },
    "language_info": {
      "name": "python"
    }
  },
  "nbformat": 4,
  "nbformat_minor": 0
}